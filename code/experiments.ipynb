{
  "cells": [
    {
      "cell_type": "markdown",
      "id": "cc6f1a39-c43e-4bab-92bb-5f701896edae",
      "metadata": {
        "id": "cc6f1a39-c43e-4bab-92bb-5f701896edae"
      },
      "source": [
        "# Experiments"
      ]
    },
    {
      "cell_type": "code",
      "source": [
        "!pip install wandb"
      ],
      "metadata": {
        "id": "XghgvLTub8Na"
      },
      "id": "XghgvLTub8Na",
      "execution_count": null,
      "outputs": []
    },
    {
      "cell_type": "code",
      "execution_count": null,
      "id": "f225bdb9-86f5-4fa1-b585-878ec3282ab8",
      "metadata": {
        "execution": {
          "iopub.execute_input": "2023-02-14T18:04:27.464484Z",
          "iopub.status.busy": "2023-02-14T18:04:27.464301Z",
          "iopub.status.idle": "2023-02-14T18:04:28.377495Z",
          "shell.execute_reply": "2023-02-14T18:04:28.376897Z",
          "shell.execute_reply.started": "2023-02-14T18:04:27.464438Z"
        },
        "tags": [],
        "colab": {
          "base_uri": "https://localhost:8080/"
        },
        "id": "f225bdb9-86f5-4fa1-b585-878ec3282ab8",
        "outputId": "27dc0c2e-c2b2-4584-bf2a-f3328ba4f46a"
      },
      "outputs": [
        {
          "output_type": "stream",
          "name": "stdout",
          "text": [
            "sys.version_info(major=3, minor=9, micro=16, releaselevel='final', serial=0)\n"
          ]
        }
      ],
      "source": [
        "import argparse\n",
        "import torch\n",
        "\n",
        "import datasets\n",
        "import linear\n",
        "import loss\n",
        "import main\n",
        "import model\n",
        "import utils\n",
        "\n",
        "import glob\n",
        "import json\n",
        "import shutil\n",
        "import sys\n",
        "\n",
        "print(sys.version_info)\n",
        "import os\n",
        "\n",
        "os.environ[\"WANDB_CONSOLE\"] = \"off\"\n",
        "import uuid\n",
        "\n",
        "import matplotlib.pyplot as plt\n",
        "import pandas as pd\n",
        "import wandb\n",
        "from tqdm.auto import tqdm\n",
        "import numpy as np"
      ]
    },
    {
      "cell_type": "code",
      "source": [
        "from google.colab import drive\n",
        "drive.mount('/content/drive')"
      ],
      "metadata": {
        "colab": {
          "base_uri": "https://localhost:8080/"
        },
        "id": "qx1gGCEoZlLM",
        "outputId": "faf33528-0ca6-400c-f6eb-1a1bbbddba58"
      },
      "id": "qx1gGCEoZlLM",
      "execution_count": null,
      "outputs": [
        {
          "output_type": "stream",
          "name": "stdout",
          "text": [
            "Mounted at /content/drive\n"
          ]
        }
      ]
    },
    {
      "cell_type": "code",
      "execution_count": null,
      "id": "84ca0298-6739-4b64-bab6-5a2aecc1983e",
      "metadata": {
        "execution": {
          "iopub.execute_input": "2023-02-14T18:04:28.379420Z",
          "iopub.status.busy": "2023-02-14T18:04:28.378815Z",
          "iopub.status.idle": "2023-02-14T18:04:28.511530Z",
          "shell.execute_reply": "2023-02-14T18:04:28.510945Z",
          "shell.execute_reply.started": "2023-02-14T18:04:28.379385Z"
        },
        "tags": [],
        "colab": {
          "base_uri": "https://localhost:8080/",
          "height": 52
        },
        "id": "84ca0298-6739-4b64-bab6-5a2aecc1983e",
        "outputId": "4076eecd-43f3-4077-ce15-1941db7fe844"
      },
      "outputs": [
        {
          "output_type": "display_data",
          "data": {
            "text/plain": [
              "<IPython.core.display.Javascript object>"
            ],
            "application/javascript": [
              "\n",
              "        window._wandbApiKey = new Promise((resolve, reject) => {\n",
              "            function loadScript(url) {\n",
              "            return new Promise(function(resolve, reject) {\n",
              "                let newScript = document.createElement(\"script\");\n",
              "                newScript.onerror = reject;\n",
              "                newScript.onload = resolve;\n",
              "                document.body.appendChild(newScript);\n",
              "                newScript.src = url;\n",
              "            });\n",
              "            }\n",
              "            loadScript(\"https://cdn.jsdelivr.net/npm/postmate/build/postmate.min.js\").then(() => {\n",
              "            const iframe = document.createElement('iframe')\n",
              "            iframe.style.cssText = \"width:0;height:0;border:none\"\n",
              "            document.body.appendChild(iframe)\n",
              "            const handshake = new Postmate({\n",
              "                container: iframe,\n",
              "                url: 'https://wandb.ai/authorize'\n",
              "            });\n",
              "            const timeout = setTimeout(() => reject(\"Couldn't auto authenticate\"), 5000)\n",
              "            handshake.then(function(child) {\n",
              "                child.on('authorize', data => {\n",
              "                    clearTimeout(timeout)\n",
              "                    resolve(data)\n",
              "                });\n",
              "            });\n",
              "            })\n",
              "        });\n",
              "    "
            ]
          },
          "metadata": {}
        },
        {
          "output_type": "stream",
          "name": "stderr",
          "text": [
            "\u001b[34m\u001b[1mwandb\u001b[0m: Appending key for api.wandb.ai to your netrc file: /root/.netrc\n"
          ]
        }
      ],
      "source": [
        "api = wandb.Api()\n",
        "root = \"/home/asciishell/s3/jupyter.asciishell.ru\"\n",
        "path_config = f\"{root}/logs/config/{{}}.json\"\n",
        "path_metrics = f\"{root}/logs/metrics/{{}}.json\""
      ]
    },
    {
      "cell_type": "markdown",
      "source": [
        "## Baseline Reproduction"
      ],
      "metadata": {
        "id": "YVSTFDo22TOx"
      },
      "id": "YVSTFDo22TOx"
    },
    {
      "cell_type": "code",
      "source": [
        "# Training SimCLR with Contrastive loss on CIFAR10\n",
        "!python main.py \\\n",
        "    --dataset \"CIFAR10\" \\\n",
        "    --loss \"Contrastive\" \\\n",
        "    --root \"/content/\" \\\n",
        "    --root_out \"/content/logs\" \\\n",
        "    --wandb_project \"chingyaoc-dcl\" \\\n",
        "    --model_arch \"resnet18\" \\\n",
        "    --cuda \\\n",
        "    --batch_size 512 \\\n",
        "    --epochs 50"
      ],
      "metadata": {
        "colab": {
          "base_uri": "https://localhost:8080/"
        },
        "id": "97AykUs4bwkW",
        "outputId": "15d4c7bc-9e75-4566-d737-d2f6b1a79d25"
      },
      "id": "97AykUs4bwkW",
      "execution_count": null,
      "outputs": [
        {
          "output_type": "stream",
          "name": "stdout",
          "text": [
            "\u001b[34m\u001b[1mwandb\u001b[0m: Currently logged in as: \u001b[33mlidia-troeshestova\u001b[0m (\u001b[33mm1p_research\u001b[0m). Use \u001b[1m`wandb login --relogin`\u001b[0m to force relogin\n",
            "\u001b[34m\u001b[1mwandb\u001b[0m: Tracking run with wandb version 0.13.11\n",
            "\u001b[34m\u001b[1mwandb\u001b[0m: Run data is saved locally in \u001b[35m\u001b[1m/content/logs/wandb/run-20230314_110257-zmva9srn\u001b[0m\n",
            "\u001b[34m\u001b[1mwandb\u001b[0m: Run \u001b[1m`wandb offline`\u001b[0m to turn off syncing.\n",
            "\u001b[34m\u001b[1mwandb\u001b[0m: Syncing run \u001b[33msweet-potato-cobbler-10\u001b[0m\n",
            "\u001b[34m\u001b[1mwandb\u001b[0m: ⭐️ View project at \u001b[34m\u001b[4mhttps://wandb.ai/m1p_research/chingyaoc-dcl\u001b[0m\n",
            "\u001b[34m\u001b[1mwandb\u001b[0m: 🚀 View run at \u001b[34m\u001b[4mhttps://wandb.ai/m1p_research/chingyaoc-dcl/runs/zmva9srn\u001b[0m\n",
            "2023-03-14 11:02:57.511841: I tensorflow/core/platform/cpu_feature_guard.cc:193] This TensorFlow binary is optimized with oneAPI Deep Neural Network Library (oneDNN) to use the following CPU instructions in performance-critical operations:  AVX2 FMA\n",
            "To enable them in other operations, rebuild TensorFlow with the appropriate compiler flags.\n",
            "2023-03-14 11:02:59.056345: W tensorflow/compiler/xla/stream_executor/platform/default/dso_loader.cc:64] Could not load dynamic library 'libnvinfer.so.7'; dlerror: libnvinfer.so.7: cannot open shared object file: No such file or directory; LD_LIBRARY_PATH: /usr/local/lib/python3.9/dist-packages/cv2/../../lib64:/usr/local/lib/python3.9/dist-packages/cv2/../../lib64:/usr/lib64-nvidia\n",
            "2023-03-14 11:02:59.056482: W tensorflow/compiler/xla/stream_executor/platform/default/dso_loader.cc:64] Could not load dynamic library 'libnvinfer_plugin.so.7'; dlerror: libnvinfer_plugin.so.7: cannot open shared object file: No such file or directory; LD_LIBRARY_PATH: /usr/local/lib/python3.9/dist-packages/cv2/../../lib64:/usr/local/lib/python3.9/dist-packages/cv2/../../lib64:/usr/lib64-nvidia\n",
            "2023-03-14 11:02:59.056504: W tensorflow/compiler/tf2tensorrt/utils/py_utils.cc:38] TF-TRT Warning: Cannot dlopen some TensorRT libraries. If you would like to use Nvidia GPU with TensorRT, please make sure the missing libraries mentioned above are installed properly.\n",
            "/usr/local/lib/python3.9/dist-packages/torch/utils/data/dataloader.py:554: UserWarning: This DataLoader will create 4 worker processes in total. Our suggested max number of worker in current system is 2, which is smaller than what this DataLoader is going to create. Please be aware that excessive worker creation might get DataLoader running slow or even freeze, lower the worker number to avoid potential slowness/freeze if necessary.\n",
            "  warnings.warn(_create_warning_msg(\n",
            "100% 50/50 [2:28:32<00:00, 178.25s/it]\n"
          ]
        }
      ]
    },
    {
      "cell_type": "code",
      "source": [
        "# Training SimCLR with DebiasedNeg loss on CIFAR10\n",
        "!python main.py \\\n",
        "    --dataset \"CIFAR10\" \\\n",
        "    --loss \"DebiasedNeg\" \\\n",
        "    --root \"/content/\" \\\n",
        "    --root_out \"/content/logs_debiased\" \\\n",
        "    --wandb_project \"chingyaoc-dcl\" \\\n",
        "    --model_arch \"resnet18\" \\\n",
        "    --cuda \\\n",
        "    --batch_size 512 \\\n",
        "    --epochs 50"
      ],
      "metadata": {
        "colab": {
          "base_uri": "https://localhost:8080/"
        },
        "id": "0yVjUomv2YoW",
        "outputId": "a8b93aa0-ff79-4895-c9ec-058c88cb529c"
      },
      "id": "0yVjUomv2YoW",
      "execution_count": null,
      "outputs": [
        {
          "output_type": "stream",
          "name": "stdout",
          "text": [
            "\u001b[34m\u001b[1mwandb\u001b[0m: Currently logged in as: \u001b[33mlidia-troeshestova\u001b[0m (\u001b[33mm1p_research\u001b[0m). Use \u001b[1m`wandb login --relogin`\u001b[0m to force relogin\n",
            "\u001b[34m\u001b[1mwandb\u001b[0m: Tracking run with wandb version 0.13.11\n",
            "\u001b[34m\u001b[1mwandb\u001b[0m: Run data is saved locally in \u001b[35m\u001b[1m/content/logs_debiased/wandb/run-20230314_134417-6iuz8868\u001b[0m\n",
            "\u001b[34m\u001b[1mwandb\u001b[0m: Run \u001b[1m`wandb offline`\u001b[0m to turn off syncing.\n",
            "\u001b[34m\u001b[1mwandb\u001b[0m: Syncing run \u001b[33mhazelnut-bun-11\u001b[0m\n",
            "\u001b[34m\u001b[1mwandb\u001b[0m: ⭐️ View project at \u001b[34m\u001b[4mhttps://wandb.ai/m1p_research/chingyaoc-dcl\u001b[0m\n",
            "\u001b[34m\u001b[1mwandb\u001b[0m: 🚀 View run at \u001b[34m\u001b[4mhttps://wandb.ai/m1p_research/chingyaoc-dcl/runs/6iuz8868\u001b[0m\n",
            "2023-03-14 13:44:17.687166: I tensorflow/core/platform/cpu_feature_guard.cc:193] This TensorFlow binary is optimized with oneAPI Deep Neural Network Library (oneDNN) to use the following CPU instructions in performance-critical operations:  AVX2 FMA\n",
            "To enable them in other operations, rebuild TensorFlow with the appropriate compiler flags.\n",
            "2023-03-14 13:44:19.079651: W tensorflow/compiler/xla/stream_executor/platform/default/dso_loader.cc:64] Could not load dynamic library 'libnvinfer.so.7'; dlerror: libnvinfer.so.7: cannot open shared object file: No such file or directory; LD_LIBRARY_PATH: /usr/local/lib/python3.9/dist-packages/cv2/../../lib64:/usr/local/lib/python3.9/dist-packages/cv2/../../lib64:/usr/lib64-nvidia\n",
            "2023-03-14 13:44:19.079842: W tensorflow/compiler/xla/stream_executor/platform/default/dso_loader.cc:64] Could not load dynamic library 'libnvinfer_plugin.so.7'; dlerror: libnvinfer_plugin.so.7: cannot open shared object file: No such file or directory; LD_LIBRARY_PATH: /usr/local/lib/python3.9/dist-packages/cv2/../../lib64:/usr/local/lib/python3.9/dist-packages/cv2/../../lib64:/usr/lib64-nvidia\n",
            "2023-03-14 13:44:19.079867: W tensorflow/compiler/tf2tensorrt/utils/py_utils.cc:38] TF-TRT Warning: Cannot dlopen some TensorRT libraries. If you would like to use Nvidia GPU with TensorRT, please make sure the missing libraries mentioned above are installed properly.\n",
            "/usr/local/lib/python3.9/dist-packages/torch/utils/data/dataloader.py:554: UserWarning: This DataLoader will create 4 worker processes in total. Our suggested max number of worker in current system is 2, which is smaller than what this DataLoader is going to create. Please be aware that excessive worker creation might get DataLoader running slow or even freeze, lower the worker number to avoid potential slowness/freeze if necessary.\n",
            "  warnings.warn(_create_warning_msg(\n",
            "100% 50/50 [2:38:08<00:00, 189.78s/it]\n"
          ]
        }
      ]
    },
    {
      "cell_type": "code",
      "source": [
        "# Training SimCLR with Contrastive loss on CIFAR10 with MobileNet2\n",
        "!python main.py \\\n",
        "    --dataset \"CIFAR10\" \\\n",
        "    --loss \"Contrastive\" \\\n",
        "    --root \"/content/\" \\\n",
        "    --root_out \"/content/logs\" \\\n",
        "    --wandb_project \"chingyaoc-dcl\" \\\n",
        "    --model_arch \"MobileNet2\" \\\n",
        "    --cuda \\\n",
        "    --batch_size 256 \\\n",
        "    --epochs 50"
      ],
      "metadata": {
        "id": "MRK0OQA-QGG-"
      },
      "id": "MRK0OQA-QGG-",
      "execution_count": null,
      "outputs": []
    },
    {
      "cell_type": "markdown",
      "id": "c2220794-e5cf-4cab-ad8e-d32e52f413d1",
      "metadata": {
        "id": "c2220794-e5cf-4cab-ad8e-d32e52f413d1"
      },
      "source": [
        "## Debiased-Pos"
      ]
    },
    {
      "cell_type": "code",
      "source": [
        "# Training SimCLR with DebiasedPosV2 loss on CIFAR10\n",
        "!python main.py \\\n",
        "    --dataset \"CIFAR10\" \\\n",
        "    --loss \"DebiasedPosV2\" \\\n",
        "    --root \"/content/\" \\\n",
        "    --root_out \"/content/logs\" \\\n",
        "    --wandb_project \"chingyaoc-dcl\" \\\n",
        "    --model_arch \"resnet18\" \\\n",
        "    --cuda \\\n",
        "    --batch_size 512 \\\n",
        "    --epochs 50"
      ],
      "metadata": {
        "colab": {
          "base_uri": "https://localhost:8080/"
        },
        "id": "jpnAX6pwVPgK",
        "outputId": "5ba91ecf-b5c2-46f1-b056-06475af4f116"
      },
      "id": "jpnAX6pwVPgK",
      "execution_count": null,
      "outputs": [
        {
          "output_type": "stream",
          "name": "stdout",
          "text": [
            "\u001b[34m\u001b[1mwandb\u001b[0m: Currently logged in as: \u001b[33mlidia-troeshestova\u001b[0m (\u001b[33mm1p_research\u001b[0m). Use \u001b[1m`wandb login --relogin`\u001b[0m to force relogin\n",
            "\u001b[34m\u001b[1mwandb\u001b[0m: Tracking run with wandb version 0.13.11\n",
            "\u001b[34m\u001b[1mwandb\u001b[0m: Run data is saved locally in \u001b[35m\u001b[1m/content/logs/wandb/run-20230314_191323-v9snm8lo\u001b[0m\n",
            "\u001b[34m\u001b[1mwandb\u001b[0m: Run \u001b[1m`wandb offline`\u001b[0m to turn off syncing.\n",
            "\u001b[34m\u001b[1mwandb\u001b[0m: Syncing run \u001b[33mstrawberry-bun-22\u001b[0m\n",
            "\u001b[34m\u001b[1mwandb\u001b[0m: ⭐️ View project at \u001b[34m\u001b[4mhttps://wandb.ai/m1p_research/chingyaoc-dcl\u001b[0m\n",
            "\u001b[34m\u001b[1mwandb\u001b[0m: 🚀 View run at \u001b[34m\u001b[4mhttps://wandb.ai/m1p_research/chingyaoc-dcl/runs/v9snm8lo\u001b[0m\n",
            "2023-03-14 19:13:24.052979: I tensorflow/core/platform/cpu_feature_guard.cc:193] This TensorFlow binary is optimized with oneAPI Deep Neural Network Library (oneDNN) to use the following CPU instructions in performance-critical operations:  AVX2 FMA\n",
            "To enable them in other operations, rebuild TensorFlow with the appropriate compiler flags.\n",
            "2023-03-14 19:13:24.970889: W tensorflow/compiler/xla/stream_executor/platform/default/dso_loader.cc:64] Could not load dynamic library 'libnvinfer.so.7'; dlerror: libnvinfer.so.7: cannot open shared object file: No such file or directory; LD_LIBRARY_PATH: /usr/local/lib/python3.9/dist-packages/cv2/../../lib64:/usr/local/lib/python3.9/dist-packages/cv2/../../lib64:/usr/lib64-nvidia\n",
            "2023-03-14 19:13:24.970993: W tensorflow/compiler/xla/stream_executor/platform/default/dso_loader.cc:64] Could not load dynamic library 'libnvinfer_plugin.so.7'; dlerror: libnvinfer_plugin.so.7: cannot open shared object file: No such file or directory; LD_LIBRARY_PATH: /usr/local/lib/python3.9/dist-packages/cv2/../../lib64:/usr/local/lib/python3.9/dist-packages/cv2/../../lib64:/usr/lib64-nvidia\n",
            "2023-03-14 19:13:24.971012: W tensorflow/compiler/tf2tensorrt/utils/py_utils.cc:38] TF-TRT Warning: Cannot dlopen some TensorRT libraries. If you would like to use Nvidia GPU with TensorRT, please make sure the missing libraries mentioned above are installed properly.\n",
            "Files already downloaded and verified\n",
            "/usr/local/lib/python3.9/dist-packages/torch/utils/data/dataloader.py:554: UserWarning: This DataLoader will create 4 worker processes in total. Our suggested max number of worker in current system is 2, which is smaller than what this DataLoader is going to create. Please be aware that excessive worker creation might get DataLoader running slow or even freeze, lower the worker number to avoid potential slowness/freeze if necessary.\n",
            "  warnings.warn(_create_warning_msg(\n",
            "Files already downloaded and verified\n",
            "Files already downloaded and verified\n",
            "100% 50/50 [2:02:51<00:00, 147.42s/it]\n"
          ]
        }
      ]
    },
    {
      "cell_type": "code",
      "source": [],
      "metadata": {
        "id": "Vh-f0RySgpyH"
      },
      "id": "Vh-f0RySgpyH",
      "execution_count": null,
      "outputs": []
    },
    {
      "cell_type": "code",
      "source": [],
      "metadata": {
        "id": "EbYYrDaWgprG"
      },
      "id": "EbYYrDaWgprG",
      "execution_count": null,
      "outputs": []
    }
  ],
  "metadata": {
    "kernelspec": {
      "display_name": "Python 3 (ipykernel)",
      "language": "python",
      "name": "python3"
    },
    "language_info": {
      "codemirror_mode": {
        "name": "ipython",
        "version": 3
      },
      "file_extension": ".py",
      "mimetype": "text/x-python",
      "name": "python",
      "nbconvert_exporter": "python",
      "pygments_lexer": "ipython3",
      "version": "3.10.8"
    },
    "colab": {
      "provenance": [],
      "collapsed_sections": [
        "f58e867d-b385-41ec-bc6c-96eae00e9627",
        "d015570b-df08-4a23-9511-99fd6576fd9b",
        "eed6b3df-d748-47b9-86e0-e2589263e8a9",
        "901cc73c-6c38-4009-81f2-ad13c8ee9af6"
      ]
    },
    "accelerator": "GPU",
    "gpuClass": "standard"
  },
  "nbformat": 4,
  "nbformat_minor": 5
}